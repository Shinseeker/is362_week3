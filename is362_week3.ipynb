{
 "cells": [
  {
   "cell_type": "markdown",
   "metadata": {},
   "source": [
    "**IS 362 -- ASSIGNMENT 3**\n",
    "\n",
    "Suppose you have ridden a bicycle from New York City to Key West, Florida. Your bicycle odometer shows the total miles, which you have dutifully logged at the end of each day with paper and pencil. Your first two entries might be 55 and 120, indicating that you rode your bike 55 miles on day 1 and 65 miles on day 2. Your task is to create a pandas Series object that holds the cumulative miles at the end of each day, then use your Python skills to show the total miles that you rode each day. \n"
   ]
  },
  {
   "cell_type": "code",
   "execution_count": 2,
   "metadata": {
    "collapsed": true
   },
   "outputs": [],
   "source": [
    "import pandas as pd\n",
    "from pprint import pprint"
   ]
  },
  {
   "cell_type": "markdown",
   "metadata": {},
   "source": [
    "\n",
    "**The Bicycle log**\n",
    "odometer being recorded and stored as a dictionary\n"
   ]
  },
  {
   "cell_type": "code",
   "execution_count": 4,
   "metadata": {
    "collapsed": false,
    "scrolled": true
   },
   "outputs": [
    {
     "name": "stdout",
     "output_type": "stream",
     "text": [
      "{'Day 1': 55,\n",
      " 'Day 2': 120,\n",
      " 'Day 3': 163,\n",
      " 'Day 4': 218,\n",
      " 'Day 5': 267,\n",
      " 'Day 6': 299,\n",
      " 'Day 7': 348}\n"
     ]
    }
   ],
   "source": [
    "bicycle_odometer = {}\n",
    "bicycle_odometer['Day 1'] = 55\n",
    "bicycle_odometer['Day 2'] = 120\n",
    "bicycle_odometer['Day 3'] = 163\n",
    "bicycle_odometer['Day 4'] = 218\n",
    "bicycle_odometer['Day 5'] = 267\n",
    "bicycle_odometer['Day 6'] = 299\n",
    "bicycle_odometer['Day 7'] = 348\n",
    "pprint (bicycle_odometer)"
   ]
  },
  {
   "cell_type": "markdown",
   "metadata": {},
   "source": [
    "** Conversion into Panda Series object**"
   ]
  },
  {
   "cell_type": "code",
   "execution_count": 29,
   "metadata": {
    "collapsed": false
   },
   "outputs": [
    {
     "name": "stdout",
     "output_type": "stream",
     "text": [
      "<class 'pandas.core.series.Series'>\n"
     ]
    },
    {
     "data": {
      "text/plain": [
       "Day 1     55\n",
       "Day 2    120\n",
       "Day 3    163\n",
       "Day 4    218\n",
       "Day 5    267\n",
       "Day 6    299\n",
       "Day 7    348\n",
       "dtype: int64"
      ]
     },
     "execution_count": 29,
     "metadata": {},
     "output_type": "execute_result"
    }
   ],
   "source": [
    "bicycle_odometer = pd.Series(bicycle_odometer)\n",
    "print (type(bicycle_odometer))\n",
    "bicycle_odometer"
   ]
  },
  {
   "cell_type": "markdown",
   "metadata": {},
   "source": [
    "**A caculation of the miles Traveled each day from New York to Florida**\n"
   ]
  },
  {
   "cell_type": "code",
   "execution_count": 38,
   "metadata": {
    "collapsed": false,
    "scrolled": false
   },
   "outputs": [
    {
     "name": "stdout",
     "output_type": "stream",
     "text": [
      "Day 1: 55 miles\n",
      "Day 2: 65 miles\n",
      "Day 3: 43 miles\n",
      "Day 4: 55 miles\n",
      "Day 5: 49 miles\n",
      "Day 6: 32 miles\n",
      "Day 7: 49 miles\n"
     ]
    }
   ],
   "source": [
    "daily_miles_traveled = {} \n",
    "yesterday_reading = 0\n",
    "\n",
    "for day, todays_reading in bicycle_odometer.items():\n",
    "        \n",
    "    logged_miles= todays_reading - yesterday_reading\n",
    "\n",
    "    daily_miles_traveled[day] = logged_miles\n",
    "    \n",
    "    print (day + ': ' + str(logged_miles) + ' miles')\n",
    "    \n",
    "    yesterday_reading = todays_reading"
   ]
  },
  {
   "cell_type": "markdown",
   "metadata": {
    "collapsed": true
   },
   "source": [
    "\n",
    "**A Series object that stores miles traveled per day**"
   ]
  },
  {
   "cell_type": "code",
   "execution_count": 36,
   "metadata": {
    "collapsed": false
   },
   "outputs": [
    {
     "name": "stdout",
     "output_type": "stream",
     "text": [
      "348\n",
      "Day 1    55\n",
      "Day 2    65\n",
      "Day 3    43\n",
      "Day 4    55\n",
      "Day 5    49\n",
      "Day 6    32\n",
      "Day 7    49\n",
      "dtype: int64\n"
     ]
    }
   ],
   "source": [
    "daily_miles_traveled = pd.Series(daily_miles_traveled)\n",
    "print(daily_miles_traveled.sum())\n",
    "print(daily_miles_traveled)\n",
    "\n"
   ]
  }
 ],
 "metadata": {
  "kernelspec": {
   "display_name": "Python 3",
   "language": "python",
   "name": "python3"
  },
  "language_info": {
   "codemirror_mode": {
    "name": "ipython",
    "version": 3
   },
   "file_extension": ".py",
   "mimetype": "text/x-python",
   "name": "python",
   "nbconvert_exporter": "python",
   "pygments_lexer": "ipython3",
   "version": "3.6.0"
  }
 },
 "nbformat": 4,
 "nbformat_minor": 2
}
